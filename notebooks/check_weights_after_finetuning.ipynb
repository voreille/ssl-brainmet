{
 "cells": [
  {
   "cell_type": "code",
   "execution_count": null,
   "metadata": {},
   "outputs": [],
   "source": [
    "from pathlib import Path\n",
    "\n",
    "import torch\n",
    "\n",
    "from ssl_brainmet.models.build_nnunet_model import build_model_from_plans"
   ]
  },
  {
   "cell_type": "code",
   "execution_count": 2,
   "metadata": {},
   "outputs": [],
   "source": [
    "project_dir = Path(\".\").resolve().parents[0]\n",
    "\n",
    "model_trained = build_model_from_plans(\n",
    "    project_dir / \"ssl_brainmet/config/nnUNetPlans.json\",\n",
    "    project_dir / \"ssl_brainmet/config/dataset.json\",\n",
    "    configuration=\"3d_fullres\",\n",
    "    deep_supervision=True,\n",
    ")"
   ]
  },
  {
   "cell_type": "code",
   "execution_count": 3,
   "metadata": {},
   "outputs": [],
   "source": [
    "weights_path = \"/home/valentin/data/target/data/nnUnet_results/Dataset511_BrainMetsSegT1to3/nnUNetTrainerFineTuning__nnUNetPlans__3d_fullres/fold_0/checkpoint_best.pth\""
   ]
  },
  {
   "cell_type": "code",
   "execution_count": null,
   "metadata": {},
   "outputs": [],
   "source": [
    "state_dict = torch.load(weights_path)"
   ]
  },
  {
   "cell_type": "code",
   "execution_count": null,
   "metadata": {},
   "outputs": [],
   "source": [
    "state_dict"
   ]
  },
  {
   "cell_type": "code",
   "execution_count": null,
   "metadata": {},
   "outputs": [],
   "source": [
    "model_trained.load_state_dict(state_dict[\"network_weights\"])"
   ]
  },
  {
   "cell_type": "code",
   "execution_count": 6,
   "metadata": {},
   "outputs": [],
   "source": [
    "weights_path = \"/home/vincent/repos/ssl-bm/weights/cnn3d_nnunet_firstgood.pt\"\n",
    "\n",
    "model_ssl = build_model_from_plans(\n",
    "    project_dir / \"ssl_brainmet/config/nnUNetPlans.json\",\n",
    "    project_dir / \"ssl_brainmet/config/dataset.json\",\n",
    "    configuration=\"3d_fullres\",\n",
    "    deep_supervision=True,\n",
    ")"
   ]
  },
  {
   "cell_type": "code",
   "execution_count": null,
   "metadata": {},
   "outputs": [],
   "source": [
    "\n",
    "state_dict = torch.load(weights_path)\n",
    "# Filter the state dict to only keep weights for the encoder\n",
    "encoder_state_dict = {k[len(\"encoder.\"):]: v for k, v in state_dict.items() if k.startswith(\"encoder.\")}\n",
    "\n",
    "# Load the filtered weights into the encoder\n",
    "model_ssl.encoder.load_state_dict(encoder_state_dict)"
   ]
  },
  {
   "cell_type": "code",
   "execution_count": null,
   "metadata": {},
   "outputs": [],
   "source": [
    "encoder1_state = model_trained.encoder.state_dict()\n",
    "encoder2_state = model_ssl.encoder.state_dict()\n",
    "\n",
    "# Check if state_dicts are identical\n",
    "if all(torch.equal(encoder1_state[key], encoder2_state[key]) for key in encoder1_state):\n",
    "    print(\"The encoders have identical weights.\")\n",
    "else:\n",
    "    print(\"The encoders have different weights.\")"
   ]
  },
  {
   "cell_type": "code",
   "execution_count": null,
   "metadata": {},
   "outputs": [],
   "source": [
    "def compute_encoder_differences(model1, model2):\n",
    "    \"\"\"\n",
    "    Compute the max absolute difference between encoder weights of two models.\n",
    "\n",
    "    Args:\n",
    "        model1: First model with an encoder.\n",
    "        model2: Second model with an encoder.\n",
    "\n",
    "    Returns:\n",
    "        dict: Dictionary containing max differences for each layer.\n",
    "    \"\"\"\n",
    "    state_dict1 = model1.encoder.state_dict()\n",
    "    state_dict2 = model2.encoder.state_dict()\n",
    "    differences = {}\n",
    "\n",
    "    for key in state_dict1.keys():\n",
    "        diff = torch.abs(state_dict1[key] - state_dict2[key]).max().item()\n",
    "        differences[key] = diff\n",
    "\n",
    "    return differences\n",
    "\n",
    "# Usage example:\n",
    "encoder_differences = compute_encoder_differences(model_trained, model_ssl)\n",
    "for layer, diff in encoder_differences.items():\n",
    "    print(f\"Max difference in {layer}: {diff}\")\n"
   ]
  },
  {
   "cell_type": "code",
   "execution_count": null,
   "metadata": {},
   "outputs": [],
   "source": []
  }
 ],
 "metadata": {
  "kernelspec": {
   "display_name": "ssl-brainmet",
   "language": "python",
   "name": "python3"
  },
  "language_info": {
   "codemirror_mode": {
    "name": "ipython",
    "version": 3
   },
   "file_extension": ".py",
   "mimetype": "text/x-python",
   "name": "python",
   "nbconvert_exporter": "python",
   "pygments_lexer": "ipython3",
   "version": "3.10.15"
  }
 },
 "nbformat": 4,
 "nbformat_minor": 2
}
