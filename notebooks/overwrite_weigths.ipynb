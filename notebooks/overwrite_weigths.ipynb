{
 "cells": [
  {
   "cell_type": "code",
   "execution_count": null,
   "metadata": {},
   "outputs": [],
   "source": [
    "from pathlib import Path\n",
    "\n",
    "import torch\n",
    "\n",
    "from ssl_brainmet.models.build_nnunet_model import build_model_from_plans"
   ]
  },
  {
   "cell_type": "code",
   "execution_count": 2,
   "metadata": {},
   "outputs": [],
   "source": [
    "weights_path = \"/home/vincent/repos/ssl-bm/weights/cnn3d_nnunet_firstgood.pt\""
   ]
  },
  {
   "cell_type": "code",
   "execution_count": 3,
   "metadata": {},
   "outputs": [],
   "source": [
    "project_dir = Path(\".\").resolve().parents[0]\n",
    "\n",
    "model = build_model_from_plans(\n",
    "    project_dir / \"ssl_brainmet/config/nnUNetPlans.json\",\n",
    "    project_dir / \"ssl_brainmet/config/dataset.json\",\n",
    "    configuration=\"3d_fullres\",\n",
    "    deep_supervision=True,\n",
    ")"
   ]
  },
  {
   "cell_type": "code",
   "execution_count": null,
   "metadata": {},
   "outputs": [],
   "source": [
    "state_dict = torch.load(weights_path)"
   ]
  },
  {
   "cell_type": "code",
   "execution_count": null,
   "metadata": {},
   "outputs": [],
   "source": [
    "# Filter the state dict to only keep weights for the encoder\n",
    "encoder_state_dict = {k[len(\"encoder.\"):]: v for k, v in state_dict.items() if k.startswith(\"encoder.\")}\n",
    "\n",
    "# Load the filtered weights into the encoder\n",
    "model.encoder.load_state_dict(encoder_state_dict)"
   ]
  },
  {
   "cell_type": "code",
   "execution_count": 6,
   "metadata": {},
   "outputs": [],
   "source": [
    "torch.save(\n",
    "    {'network_weights': model.state_dict()},\n",
    "    \"/home/valentin/data/target/data/pretrained_weights/pretrained_weights.pt\")"
   ]
  },
  {
   "cell_type": "code",
   "execution_count": null,
   "metadata": {},
   "outputs": [],
   "source": [
    "encoder_params = {k: v for k, v in model.encoder.state_dict().items()}\n",
    "decoder_encoder_params = {k: v for k, v in model.decoder.encoder.state_dict().items()}\n",
    "\n",
    "for key in encoder_params:\n",
    "    assert torch.equal(encoder_params[key], decoder_encoder_params[key]), f\"Mismatch in {key}\"\n",
    "print(\"Encoder weights are consistent.\")\n"
   ]
  },
  {
   "cell_type": "code",
   "execution_count": null,
   "metadata": {},
   "outputs": [],
   "source": [
    "encoder_params['stages.2.0.convs.0.all_modules.1.weight']"
   ]
  },
  {
   "cell_type": "code",
   "execution_count": null,
   "metadata": {},
   "outputs": [],
   "source": [
    "decoder_encoder_params['stages.2.0.convs.0.all_modules.1.weight']"
   ]
  },
  {
   "cell_type": "code",
   "execution_count": null,
   "metadata": {},
   "outputs": [],
   "source": []
  }
 ],
 "metadata": {
  "kernelspec": {
   "display_name": "ssl-brainmet",
   "language": "python",
   "name": "python3"
  },
  "language_info": {
   "codemirror_mode": {
    "name": "ipython",
    "version": 3
   },
   "file_extension": ".py",
   "mimetype": "text/x-python",
   "name": "python",
   "nbconvert_exporter": "python",
   "pygments_lexer": "ipython3",
   "version": "3.10.15"
  }
 },
 "nbformat": 4,
 "nbformat_minor": 2
}
