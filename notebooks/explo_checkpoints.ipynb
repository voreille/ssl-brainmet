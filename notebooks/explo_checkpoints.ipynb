{
 "cells": [
  {
   "cell_type": "code",
   "execution_count": null,
   "metadata": {},
   "outputs": [],
   "source": [
    "from pathlib import Path\n",
    "import copy\n",
    "\n",
    "import torch\n",
    "from torchviz import make_dot\n",
    "\n",
    "from ssl_brainmet.models.build_nnunet_model import build_model_from_plans\n",
    "from ssl_brainmet.utils import get_device"
   ]
  },
  {
   "cell_type": "code",
   "execution_count": null,
   "metadata": {},
   "outputs": [],
   "source": [
    "weights_path = \"/home/vincent/repos/ssl-bm/weights/cnn3d_nnunet_local_global_100ep_checkpoint.pth\"\n",
    "# weights_path = \"/home/vincent/repos/ssl-bm/weights/cnn3d_nnunet_local_global_1ep_checkpoint.pth\""
   ]
  },
  {
   "cell_type": "code",
   "execution_count": null,
   "metadata": {},
   "outputs": [],
   "source": [
    "device = get_device(0)"
   ]
  },
  {
   "cell_type": "code",
   "execution_count": null,
   "metadata": {},
   "outputs": [],
   "source": [
    "project_dir = Path(\".\").resolve().parents[0]\n",
    "\n",
    "model = build_model_from_plans(\n",
    "    project_dir / \"ssl_brainmet/config/nnUNetPlans.json\",\n",
    "    project_dir / \"ssl_brainmet/config/dataset.json\",\n",
    "    configuration=\"3d_fullres\",\n",
    "    deep_supervision=True,\n",
    ").to(device)"
   ]
  },
  {
   "cell_type": "code",
   "execution_count": null,
   "metadata": {},
   "outputs": [],
   "source": [
    "initial_state_dict = copy.deepcopy(model.state_dict())"
   ]
  },
  {
   "cell_type": "code",
   "execution_count": null,
   "metadata": {},
   "outputs": [],
   "source": [
    "state_dict = torch.load(weights_path, map_location=device, weights_only=False)"
   ]
  },
  {
   "cell_type": "code",
   "execution_count": null,
   "metadata": {},
   "outputs": [],
   "source": [
    "state_dict.keys()"
   ]
  },
  {
   "cell_type": "code",
   "execution_count": null,
   "metadata": {},
   "outputs": [],
   "source": [
    "model.decoder.seg_layers"
   ]
  },
  {
   "cell_type": "code",
   "execution_count": null,
   "metadata": {},
   "outputs": [],
   "source": [
    "state_dict[\"model_state_dict\"].keys()"
   ]
  },
  {
   "cell_type": "code",
   "execution_count": null,
   "metadata": {},
   "outputs": [],
   "source": [
    "state_dict_encoder_q = {key[len(\"encoder_q.\"):]:item for key, item in state_dict[\"model_state_dict\"].items() if key.startswith(\"encoder_q.\")}\n",
    "state_dict_encoder_q = {key[len(\"model.\"):]:item for key, item in state_dict_encoder_q.items() if key.startswith(\"model.\")}\n",
    "state_dict_encoder_q = {k: v for k, v in state_dict_encoder_q.items() \n",
    "                       if not k.startswith(\"decoder.seg_layers\")}"
   ]
  },
  {
   "cell_type": "code",
   "execution_count": null,
   "metadata": {},
   "outputs": [],
   "source": [
    "state_dict_encoder_q.keys()"
   ]
  },
  {
   "cell_type": "code",
   "execution_count": null,
   "metadata": {},
   "outputs": [],
   "source": [
    "load_info = model.load_state_dict(state_dict_encoder_q, strict=False)\n",
    "print(\"Missing keys:\", load_info.missing_keys)\n",
    "print(\"Unexpected keys:\", load_info.unexpected_keys)"
   ]
  },
  {
   "cell_type": "code",
   "execution_count": null,
   "metadata": {},
   "outputs": [],
   "source": [
    "encoder_params = {k: v for k, v in model.encoder.state_dict().items()}\n",
    "decoder_encoder_params = {k: v for k, v in model.decoder.encoder.state_dict().items()}\n",
    "\n",
    "for key in encoder_params:\n",
    "    assert torch.equal(encoder_params[key], decoder_encoder_params[key]), f\"Mismatch in {key}\"\n",
    "print(\"Encoder weights are consistent.\")\n"
   ]
  },
  {
   "cell_type": "code",
   "execution_count": null,
   "metadata": {},
   "outputs": [],
   "source": [
    "# Compare the weights after loading\n",
    "for name, param in model.state_dict().items():\n",
    "    # Compute the difference between the new and initial parameters\n",
    "    diff = torch.norm(param - initial_state_dict[name])\n",
    "    # A small tolerance is used to account for floating point differences\n",
    "    if diff > 1e-6:\n",
    "        print(f\"{name} has changed (difference norm: {diff.item()})\")\n",
    "    else:\n",
    "        print(f\"{name} remains unchanged.\")"
   ]
  },
  {
   "cell_type": "code",
   "execution_count": null,
   "metadata": {},
   "outputs": [],
   "source": [
    "# model.state_dict()[\"decoder.stages.4.convs.0.conv.weight\"]\n",
    "initial_state_dict[\"encoder.stages.0.0.convs.0.norm.weight\"]"
   ]
  },
  {
   "cell_type": "code",
   "execution_count": null,
   "metadata": {},
   "outputs": [],
   "source": [
    "x = torch.rand((1, 1, 64, 64, 64), device=device)\n",
    "y = model(x)[0]\n",
    "\n",
    "make_dot(y, params=dict(model.named_parameters())).render(\"model\", format=\"pdf\")"
   ]
  }
 ],
 "metadata": {
  "kernelspec": {
   "display_name": "target",
   "language": "python",
   "name": "python3"
  },
  "language_info": {
   "codemirror_mode": {
    "name": "ipython",
    "version": 3
   },
   "file_extension": ".py",
   "mimetype": "text/x-python",
   "name": "python",
   "nbconvert_exporter": "python",
   "pygments_lexer": "ipython3",
   "version": "3.11.11"
  }
 },
 "nbformat": 4,
 "nbformat_minor": 2
}
